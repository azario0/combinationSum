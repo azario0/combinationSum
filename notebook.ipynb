{
 "cells": [
  {
   "cell_type": "code",
   "execution_count": 28,
   "metadata": {},
   "outputs": [],
   "source": [
    "def combinationSum(candidates, target):\n",
    "    candidates.sort()\n",
    "    result = []\n",
    "    queue = []\n",
    "    \n",
    "    # Initialize queue\n",
    "    for i in range(len(candidates)):\n",
    "        num = candidates[i]\n",
    "        if num > target:\n",
    "            continue\n",
    "        queue.append(([num], i, num))\n",
    "    \n",
    "    print(\"Initial queue:\", queue)\n",
    "    \n",
    "    while queue:\n",
    "        print(\"\\nCurrent queue:\", queue)\n",
    "        combo, next_idx, total = queue.pop(0)\n",
    "        print(f\"Processing: {combo} (sum={total})\")\n",
    "        \n",
    "        if total == target:\n",
    "            print(f\"✅ Found valid combination: {combo}\")\n",
    "            result.append(combo)\n",
    "        else:\n",
    "            for i in range(next_idx, len(candidates)):\n",
    "                num = candidates[i]\n",
    "                new_total = total + num\n",
    "                if new_total > target:\n",
    "                    print(f\"  Skipping {num} → overshoots target\")\n",
    "                    break\n",
    "                new_combo = combo + [num]\n",
    "                print(f\"  Adding new combo: {new_combo} (sum={new_total})\")\n",
    "                queue.append((new_combo, i, new_total))\n",
    "    \n",
    "    return result"
   ]
  },
  {
   "cell_type": "code",
   "execution_count": 31,
   "metadata": {},
   "outputs": [
    {
     "name": "stdout",
     "output_type": "stream",
     "text": [
      "Initial queue: [([1], 0, 1), ([2], 1, 2)]\n",
      "\n",
      "Current queue: [([1], 0, 1), ([2], 1, 2)]\n",
      "Processing: [1] (sum=1)\n",
      "  Adding new combo: [1, 1] (sum=2)\n",
      "  Skipping 2 → overshoots target\n",
      "\n",
      "Current queue: [([2], 1, 2), ([1, 1], 0, 2)]\n",
      "Processing: [2] (sum=2)\n",
      "✅ Found valid combination: [2]\n",
      "\n",
      "Current queue: [([1, 1], 0, 2)]\n",
      "Processing: [1, 1] (sum=2)\n",
      "✅ Found valid combination: [1, 1]\n"
     ]
    },
    {
     "data": {
      "text/plain": [
       "[[2], [1, 1]]"
      ]
     },
     "execution_count": 31,
     "metadata": {},
     "output_type": "execute_result"
    }
   ],
   "source": [
    "candidates = [1, 2]\n",
    "target = 2\n",
    "\n",
    "combinationSum( candidates, target)"
   ]
  },
  {
   "cell_type": "code",
   "execution_count": null,
   "metadata": {},
   "outputs": [],
   "source": []
  }
 ],
 "metadata": {
  "kernelspec": {
   "display_name": "Python 3",
   "language": "python",
   "name": "python3"
  },
  "language_info": {
   "codemirror_mode": {
    "name": "ipython",
    "version": 3
   },
   "file_extension": ".py",
   "mimetype": "text/x-python",
   "name": "python",
   "nbconvert_exporter": "python",
   "pygments_lexer": "ipython3",
   "version": "3.10.12"
  }
 },
 "nbformat": 4,
 "nbformat_minor": 2
}
